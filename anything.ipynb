{
 "cells": [
  {
   "cell_type": "code",
   "execution_count": 1,
   "metadata": {},
   "outputs": [],
   "source": [
    "from starter import MongoFetcher"
   ]
  },
  {
   "cell_type": "code",
   "execution_count": 2,
   "metadata": {},
   "outputs": [],
   "source": [
    "fetcher = MongoFetcher()"
   ]
  },
  {
   "cell_type": "code",
   "execution_count": 15,
   "metadata": {},
   "outputs": [],
   "source": [
    "patientid= '60555'\n",
    "practice ='AMERICAN PHYSICIANS FOUNDATION'"
   ]
  },
  {
   "cell_type": "code",
   "execution_count": 16,
   "metadata": {},
   "outputs": [],
   "source": [
    "response = fetcher.get_patients_from_mongo(patientid, practice)"
   ]
  },
  {
   "cell_type": "code",
   "execution_count": 17,
   "metadata": {},
   "outputs": [],
   "source": [
    "import json"
   ]
  },
  {
   "cell_type": "code",
   "execution_count": 18,
   "metadata": {},
   "outputs": [],
   "source": [
    "data = json.loads(response)"
   ]
  },
  {
   "cell_type": "code",
   "execution_count": 19,
   "metadata": {},
   "outputs": [],
   "source": [
    "# Ensure 'data' is a dictionary before attempting to remove keys\n",
    "if isinstance(data, dict):\n",
    "    keys_to_remove = [\"_id\", \"patientid\", \"practice\"]\n",
    "    for key in keys_to_remove:\n",
    "        data.pop(key, None)  # Safely remove keys if they exist"
   ]
  },
  {
   "cell_type": "code",
   "execution_count": null,
   "metadata": {},
   "outputs": [],
   "source": []
  },
  {
   "cell_type": "code",
   "execution_count": 20,
   "metadata": {},
   "outputs": [
    {
     "name": "stdout",
     "output_type": "stream",
     "text": [
      "{'Date_Of_Birth': '1962-02-03', 'Gender': 'F', 'MaritalStatus': 'Divorced', 'Races': ['Declined to Specify'], 'Vitals': {'Weight': '276.00', 'Height': '63.00', 'Systolic': '133.00', 'Diastolic': '89.00', 'Pulse': '87.00', 'Respiration': '0.00'}, 'Diagnoses': [{'ICD_10': 'Z12.11', 'IsCurrent': True, 'Date': '2022-09-14'}, {'ICD_10': 'K20.90', 'IsCurrent': True, 'Date': '2023-07-04'}, {'ICD_10': 'R11.0', 'IsCurrent': True, 'Date': '2023-07-05'}, {'ICD_10': 'R10.9', 'IsCurrent': True, 'Date': '2023-07-05'}, {'ICD_10': 'Z86.010', 'IsCurrent': True, 'Date': '2019-07-17'}, {'ICD_10': 'K52.9', 'IsCurrent': True, 'Date': '2018-09-13'}, {'ICD_10': 'D12.4', 'IsCurrent': True, 'Date': '2023-07-25'}, {'ICD_10': 'D12.2', 'IsCurrent': True, 'Date': '2023-07-25'}, {'ICD_10': 'Q43.8', 'IsCurrent': True, 'Date': '2023-07-25'}, {'ICD_10': 'K31.89', 'IsCurrent': True, 'Date': '2023-07-25'}, {'ICD_10': 'K22.70', 'IsCurrent': True, 'Date': '2018-08-22'}, {'ICD_10': 'K29.70', 'IsCurrent': True, 'Date': '2018-08-22'}, {'ICD_10': 'Z98.84', 'IsCurrent': True, 'Date': '2018-08-22'}, {'ICD_10': 'R12', 'IsCurrent': True, 'Date': '2018-08-22'}, {'ICD_10': 'D64.9', 'IsCurrent': True, 'Date': '2018-09-13'}, {'ICD_10': 'Z80.0', 'IsCurrent': True, 'Date': '2018-09-13'}, {'ICD_10': 'R19.7', 'IsCurrent': True, 'Date': '2019-07-17'}, {'ICD_10': 'D50.9', 'IsCurrent': True, 'Date': '2019-05-31'}, {'ICD_10': 'Z12.11', 'IsCurrent': True, 'Date': '2022-09-14'}, {'ICD_10': 'R11.0', 'IsCurrent': True, 'Date': '2023-07-05'}, {'ICD_10': 'D12.4', 'IsCurrent': True, 'Date': '2023-07-25'}, {'ICD_10': 'Z80.0', 'IsCurrent': True, 'Date': '2018-09-13'}, {'ICD_10': 'K22.70', 'IsCurrent': True, 'Date': '2018-08-22'}, {'ICD_10': 'K20.90', 'IsCurrent': True, 'Date': '2023-07-04'}, {'ICD_10': 'Z86.010', 'IsCurrent': True, 'Date': '2019-07-17'}, {'ICD_10': 'D50.9', 'IsCurrent': True, 'Date': '2019-05-31'}, {'ICD_10': 'Z98.84', 'IsCurrent': True, 'Date': '2018-08-22'}, {'ICD_10': 'K31.89', 'IsCurrent': True, 'Date': '2023-07-25'}, {'ICD_10': 'R12', 'IsCurrent': True, 'Date': '2018-08-22'}, {'ICD_10': 'Q43.8', 'IsCurrent': True, 'Date': '2023-07-25'}, {'ICD_10': 'R10.9', 'IsCurrent': True, 'Date': '2023-07-05'}, {'ICD_10': 'K29.70', 'IsCurrent': True, 'Date': '2018-08-22'}, {'ICD_10': 'D12.2', 'IsCurrent': True, 'Date': '2023-07-25'}, {'ICD_10': 'K52.9', 'IsCurrent': True, 'Date': '2018-09-13'}, {'ICD_10': 'D64.9', 'IsCurrent': True, 'Date': '2018-09-13'}, {'ICD_10': 'R19.7', 'IsCurrent': True, 'Date': '2019-07-17'}, {'ICD_10': 'R12', 'IsCurrent': True, 'Date': '2018-08-22'}, {'ICD_10': 'K22.70', 'IsCurrent': True, 'Date': '2018-08-22'}, {'ICD_10': 'D12.2', 'IsCurrent': True, 'Date': '2023-07-25'}, {'ICD_10': 'D12.4', 'IsCurrent': True, 'Date': '2023-07-25'}, {'ICD_10': 'R11.0', 'IsCurrent': True, 'Date': '2023-07-05'}, {'ICD_10': 'R10.9', 'IsCurrent': True, 'Date': '2023-07-05'}, {'ICD_10': 'Z86.010', 'IsCurrent': True, 'Date': '2019-07-17'}, {'ICD_10': 'K52.9', 'IsCurrent': True, 'Date': '2018-09-13'}, {'ICD_10': 'D50.9', 'IsCurrent': True, 'Date': '2019-05-31'}, {'ICD_10': 'K52.9', 'IsCurrent': True}, {'ICD_10': 'R93.5', 'IsCurrent': True}, {'ICD_10': 'D50.9', 'IsCurrent': True}, {'ICD_10': 'R12', 'IsCurrent': True}, {'ICD_10': 'K22.70', 'IsCurrent': True}, {'ICD_10': 'R11.0', 'IsCurrent': True}, {'ICD_10': 'Z80.0', 'IsCurrent': True}, {'ICD_10': 'R10.9', 'IsCurrent': True}, {'ICD_10': 'K22.70', 'IsCurrent': True}, {'ICD_10': 'R10.84', 'IsCurrent': True}, {'ICD_10': 'Z86.010', 'IsCurrent': True}, {'ICD_10': 'K52.9', 'IsCurrent': True}, {'ICD_10': 'R93.5', 'IsCurrent': True}, {'ICD_10': 'D50.9', 'IsCurrent': True}, {'ICD_10': 'R13.10', 'IsCurrent': True}, {'ICD_10': 'K92.2', 'IsCurrent': True}], 'FamilyHistory': [{'FamilyMember': 'Mother ', 'Diseases': [{'DiseaseName': 'HEART TROUBLE', 'Denies': False}, {'DiseaseName': 'COLON POLYPS', 'Denies': False}, {'DiseaseName': 'Colon Cancer', 'Denies': False}, {'DiseaseName': 'Colitis', 'Denies': False}]}], 'LabResults': [{'Observation': 'Upper GI endoscopy', 'Result': \"Patient: PAMELA S MORRIS~MRN: 60558~DOB: 2/3/1962~Gender: Female~Age: 61 Years~Procedure: Upper GI endoscopy~Date: 7/25/2023~Attending Physician: Maria Olmeda , MD~Referring MD:       IRINA  BOLDT~Additional Staff:       Danielle  Williams, RN; Follick  Marina, CRNA~Indications:~       -  Heartburn~       -  Surveillance for malignancy due to personal history of Barrett's esophagus~       -  Nausea~Medications:~       - Propofol IV 800 mg~       - Zofran IV 4 mg~       -  See the Anesthesia note for documentation of the administered medications~Complications:~       -  No immediate complications.  Estimated blood loss: Minimal.~Estimated Blood Loss:~       -  Estimated blood loss was minimal.~Procedure:~       - The Endoscope was introduced through the mouth and advanced to the second~          part of the duodenum.~       -  The upper GI endoscopy was accomplished without difficulty.~       -  The patient tolerated the procedure well.~Findings:~       -  The Z-line was regular and was found 40 cm from the incisors.  Biopsies~          were taken with a cold forceps for histology.  Estimated blood loss was~          minimal.~       -  Patchy mildly erythematous mucosa without bleeding was found in the gastric~          body.  Biopsies were taken with a cold forceps for Helicobacter pylori testing.~           Estimated blood loss was minimal.~       -  Evidence of a Roux-en-Y anastomosis was found in the gastric body.  This~          was characterized by healthy appearing mucosa.  Biopsies were taken with a cold~          forceps for histology.  Estimated blood loss was minimal.~       -  The examined duodenum was normal.  Biopsies for histology were taken with a~          cold forceps for evaluation of celiac disease.  Estimated blood loss was~          minimal.~Impression:~       -  Z-line regular, 40 cm from the incisors.  Biopsied.~       -  Erythematous mucosa in the gastric body.  Biopsied.~       -  A Roux-en-Y anastomosis was found, characterized by healthy appearing~          mucosa.  Biopsied.~       -  Normal examined duodenum.  Biopsied.~Recommendation:~       -  Await pathology results.~       -  Return to my office in 2 weeks.~       -  Continue present medications.~       -  Patient has a contact number available for emergencies.  The signs and~          symptoms of potential delayed complications were discussed with the patient.~          Return to normal activities tomorrow.  Written discharge instructions were~          provided to the patient.~       -  Resume previous diet.~       -  Follow an antireflux regimen indefinitely.~       -  Recommend acid suppression medication.~       -  The findings and recommendations were discussed with the patient.~Dr. Maria Olmeda~This document has been electronically signed.~Note Initiated:7/25/2023~Note Completed:7/25/2023 2:19 PM\", 'Range': '', 'Unit': '', 'Date': '2023-07-25'}, {'Observation': 'Upper GI endoscopy', 'Result': 'PDF File', 'Range': '', 'Unit': '', 'Date': '2023-07-25'}, {'Observation': 'Colonoscopy', 'Result': 'PDF File', 'Range': '', 'Unit': '', 'Date': '2023-07-25'}, {'Observation': 'Colonoscopy', 'Result': 'Patient: PAMELA S MORRIS~MRN: 60558~DOB: 2/3/1962~Gender: Female~Age: 61 Years~Procedure: Colonoscopy~Date: 7/25/2023~Attending Physician: Maria Olmeda , MD~Referring MD:       IRINA  BOLDT~Additional Staff:       Danielle  Williams, RN; Follick  Marina, CRNA~Indications:~       -  High risk colon cancer surveillance: Personal history of colonic polyps~       -  Clinically significant diarrhea of unexplained origin~Medications:~       - Propofol IV 800 mg~       - Zofran IV 4 mg~       -  See the Anesthesia note for documentation of the administered medications~Complications:~       -  No immediate complications.  Estimated blood loss: Minimal.~Estimated Blood Loss:~       -  Estimated blood loss was minimal.~Procedure:~       - The Adult colonoscope was introduced through the anus and advanced to the~          cecum, identified by appendiceal orifice and ileocecal valve.~       -  The colonoscopy was performed without difficulty.~       -  The patient tolerated the procedure well.~       -  The quality of the bowel preparation was fair.~       -  The ileocecal valve, appendiceal orifice, and rectum were photographed.~Findings:~       -  The perianal and digital rectal examinations were normal.  Pertinent~          negatives include normal sphincter tone.~       -  Internal hemorrhoids were found during retroflexion.  The hemorrhoids were~          small.~       -  A few small-mouthed diverticula were found in the sigmoid colon.~       -  A 10 mm polyp was found in the descending colon.  The polyp was sessile.~          The polyp was removed with a cold snare.   Resection and retrieval were~          complete.  Estimated blood loss was minimal.~       -  Two sessile polyps were found in the ascending colon.  The polyps were 4 to~          6 mm in size.  These polyps were removed with a cold biopsy forceps.  Resection~          was complete, and retrieval was complete.  Estimated blood loss was minimal.~       -  The colon (entire examined portion) was significantly redundant.~Impression:~       -  Preparation of the colon was fair.~       -  Internal hemorrhoids.~       -  Diverticulosis in the sigmoid colon.~       -  One 10 mm polyp in the descending colon, removed with a cold snare.~          Resected and retrieved.~       -  Two 4 to 6 mm polyps in the ascending colon, removed with a cold biopsy~          forceps.  Resected and retrieved.~       -  Redundant colon.~Recommendation:~       -  Patient has a contact number available for emergencies.  The signs and~          symptoms of potential delayed complications were discussed with the patient.~          Return to normal activities tomorrow.  Written discharge instructions were~          provided to the patient.~       -  Resume previous diet.~       -  Continue present medications.~       -  Repeat colonoscopy in 1 year for surveillance.~       -  Return to my office in 2 weeks.~Dr. Maria Olmeda~This document has been electronically signed.~Note Initiated:7/25/2023~Note Completed:7/25/2023 2:22 PM', 'Range': '', 'Unit': '', 'Date': '2023-07-25'}], 'Allergies': [{'AllergyName': 'Bactrim', 'Severity': '', 'AllergyType': 'Drug'}]}\n"
     ]
    }
   ],
   "source": [
    "print(data)"
   ]
  },
  {
   "cell_type": "code",
   "execution_count": null,
   "metadata": {},
   "outputs": [],
   "source": []
  }
 ],
 "metadata": {
  "kernelspec": {
   "display_name": "Python 3",
   "language": "python",
   "name": "python3"
  },
  "language_info": {
   "codemirror_mode": {
    "name": "ipython",
    "version": 3
   },
   "file_extension": ".py",
   "mimetype": "text/x-python",
   "name": "python",
   "nbconvert_exporter": "python",
   "pygments_lexer": "ipython3",
   "version": "3.10.1"
  }
 },
 "nbformat": 4,
 "nbformat_minor": 2
}
